{
 "cells": [
  {
   "cell_type": "markdown",
   "id": "cd4edeed",
   "metadata": {},
   "source": [
    "# Predict Podcast Listening Time\n",
    "By Josh Houlding\n",
    "\n",
    "<b>Competition Page:</b> [https://www.kaggle.com/competitions/playground-series-s5e4/overview](https://www.kaggle.com/competitions/playground-series-s5e4/overview)\n",
    "\n",
    "The following is an AutoML solution to the April 2025 Kaggle competition based around predicting a podcast episode's listening time based on various factors, implemented using the H2O library."
   ]
  },
  {
   "cell_type": "markdown",
   "id": "462f27e9",
   "metadata": {},
   "source": [
    "# Loading the data"
   ]
  },
  {
   "cell_type": "code",
   "execution_count": 75,
   "id": "154f033e",
   "metadata": {},
   "outputs": [],
   "source": [
    "#!pip install h2o\n",
    "import pandas as pd\n",
    "\n",
    "# Load data\n",
    "train = pd.read_csv(\"train.csv\")\n",
    "test = pd.read_csv(\"test.csv\")"
   ]
  },
  {
   "cell_type": "code",
   "execution_count": 76,
   "id": "a9458e91",
   "metadata": {},
   "outputs": [
    {
     "data": {
      "text/html": [
       "<div>\n",
       "<style scoped>\n",
       "    .dataframe tbody tr th:only-of-type {\n",
       "        vertical-align: middle;\n",
       "    }\n",
       "\n",
       "    .dataframe tbody tr th {\n",
       "        vertical-align: top;\n",
       "    }\n",
       "\n",
       "    .dataframe thead th {\n",
       "        text-align: right;\n",
       "    }\n",
       "</style>\n",
       "<table border=\"1\" class=\"dataframe\">\n",
       "  <thead>\n",
       "    <tr style=\"text-align: right;\">\n",
       "      <th></th>\n",
       "      <th>id</th>\n",
       "      <th>Podcast_Name</th>\n",
       "      <th>Episode_Title</th>\n",
       "      <th>Episode_Length_minutes</th>\n",
       "      <th>Genre</th>\n",
       "      <th>Host_Popularity_percentage</th>\n",
       "      <th>Publication_Day</th>\n",
       "      <th>Publication_Time</th>\n",
       "      <th>Guest_Popularity_percentage</th>\n",
       "      <th>Number_of_Ads</th>\n",
       "      <th>Episode_Sentiment</th>\n",
       "      <th>Listening_Time_minutes</th>\n",
       "    </tr>\n",
       "  </thead>\n",
       "  <tbody>\n",
       "    <tr>\n",
       "      <th>0</th>\n",
       "      <td>0</td>\n",
       "      <td>Mystery Matters</td>\n",
       "      <td>Episode 98</td>\n",
       "      <td>NaN</td>\n",
       "      <td>True Crime</td>\n",
       "      <td>74.81</td>\n",
       "      <td>Thursday</td>\n",
       "      <td>Night</td>\n",
       "      <td>NaN</td>\n",
       "      <td>0.0</td>\n",
       "      <td>Positive</td>\n",
       "      <td>31.41998</td>\n",
       "    </tr>\n",
       "    <tr>\n",
       "      <th>1</th>\n",
       "      <td>1</td>\n",
       "      <td>Joke Junction</td>\n",
       "      <td>Episode 26</td>\n",
       "      <td>119.8</td>\n",
       "      <td>Comedy</td>\n",
       "      <td>66.95</td>\n",
       "      <td>Saturday</td>\n",
       "      <td>Afternoon</td>\n",
       "      <td>75.95</td>\n",
       "      <td>2.0</td>\n",
       "      <td>Negative</td>\n",
       "      <td>88.01241</td>\n",
       "    </tr>\n",
       "    <tr>\n",
       "      <th>2</th>\n",
       "      <td>2</td>\n",
       "      <td>Study Sessions</td>\n",
       "      <td>Episode 16</td>\n",
       "      <td>73.9</td>\n",
       "      <td>Education</td>\n",
       "      <td>69.97</td>\n",
       "      <td>Tuesday</td>\n",
       "      <td>Evening</td>\n",
       "      <td>8.97</td>\n",
       "      <td>0.0</td>\n",
       "      <td>Negative</td>\n",
       "      <td>44.92531</td>\n",
       "    </tr>\n",
       "  </tbody>\n",
       "</table>\n",
       "</div>"
      ],
      "text/plain": [
       "   id     Podcast_Name Episode_Title  Episode_Length_minutes       Genre  \\\n",
       "0   0  Mystery Matters    Episode 98                     NaN  True Crime   \n",
       "1   1    Joke Junction    Episode 26                   119.8      Comedy   \n",
       "2   2   Study Sessions    Episode 16                    73.9   Education   \n",
       "\n",
       "   Host_Popularity_percentage Publication_Day Publication_Time  \\\n",
       "0                       74.81        Thursday            Night   \n",
       "1                       66.95        Saturday        Afternoon   \n",
       "2                       69.97         Tuesday          Evening   \n",
       "\n",
       "   Guest_Popularity_percentage  Number_of_Ads Episode_Sentiment  \\\n",
       "0                          NaN            0.0          Positive   \n",
       "1                        75.95            2.0          Negative   \n",
       "2                         8.97            0.0          Negative   \n",
       "\n",
       "   Listening_Time_minutes  \n",
       "0                31.41998  \n",
       "1                88.01241  \n",
       "2                44.92531  "
      ]
     },
     "execution_count": 76,
     "metadata": {},
     "output_type": "execute_result"
    }
   ],
   "source": [
    "# Show head\n",
    "train.head(3)"
   ]
  },
  {
   "cell_type": "markdown",
   "id": "d3448e0e",
   "metadata": {},
   "source": [
    "# Cleaning the data"
   ]
  },
  {
   "cell_type": "code",
   "execution_count": 77,
   "id": "0dbb0cf6",
   "metadata": {},
   "outputs": [],
   "source": [
    "# Drop unnecessary columns\n",
    "columns_to_drop = [\"Podcast_Name\", \"Episode_Title\"]\n",
    "train = train.drop(columns=columns_to_drop)\n",
    "test = test.drop(columns=columns_to_drop)"
   ]
  },
  {
   "cell_type": "code",
   "execution_count": 78,
   "id": "ff6605af",
   "metadata": {},
   "outputs": [],
   "source": [
    "# Remove duplicates\n",
    "train = train.drop_duplicates()\n",
    "test = test.drop_duplicates()"
   ]
  },
  {
   "cell_type": "code",
   "execution_count": 79,
   "id": "5051a6db",
   "metadata": {},
   "outputs": [
    {
     "name": "stdout",
     "output_type": "stream",
     "text": [
      "Training rows with missing values: 0\n",
      "Testing rows with missing values: 0\n"
     ]
    }
   ],
   "source": [
    "# Function to fill missing values with the mode\n",
    "def fill_na_with_mode(df):\n",
    "    for col in df.columns:\n",
    "        mode_value = df[col].mode()\n",
    "        if not mode_value.empty:  # Check if a mode exists\n",
    "            df[col].fillna(mode_value[0], inplace=True)\n",
    "        else:\n",
    "            print(f\"No mode found for column '{col}'. Missing values not filled.\") #Informative print\n",
    "    return df\n",
    "\n",
    "# Fill missing values\n",
    "train = fill_na_with_mode(train)\n",
    "test = fill_na_with_mode(test)\n",
    "\n",
    "# Check missing value counts\n",
    "print(f\"Training rows with missing values: {train.isna().sum().sum()}\")\n",
    "print(f\"Testing rows with missing values: {test.isna().sum().sum()}\")"
   ]
  },
  {
   "cell_type": "code",
   "execution_count": 80,
   "id": "0e37a606",
   "metadata": {
    "scrolled": false
   },
   "outputs": [
    {
     "name": "stdout",
     "output_type": "stream",
     "text": [
      "TRAINING SET\n",
      "<class 'pandas.core.frame.DataFrame'>\n",
      "RangeIndex: 750000 entries, 0 to 749999\n",
      "Data columns (total 10 columns):\n",
      " #   Column                       Non-Null Count   Dtype  \n",
      "---  ------                       --------------   -----  \n",
      " 0   id                           750000 non-null  int64  \n",
      " 1   Episode_Length_minutes       750000 non-null  float64\n",
      " 2   Genre                        750000 non-null  object \n",
      " 3   Host_Popularity_percentage   750000 non-null  float64\n",
      " 4   Publication_Day              750000 non-null  object \n",
      " 5   Publication_Time             750000 non-null  object \n",
      " 6   Guest_Popularity_percentage  750000 non-null  float64\n",
      " 7   Number_of_Ads                750000 non-null  float64\n",
      " 8   Episode_Sentiment            750000 non-null  object \n",
      " 9   Listening_Time_minutes       750000 non-null  float64\n",
      "dtypes: float64(5), int64(1), object(4)\n",
      "memory usage: 57.2+ MB\n",
      "________________________________________________________________ \n",
      "\n",
      "TESTING SET\n",
      "<class 'pandas.core.frame.DataFrame'>\n",
      "RangeIndex: 250000 entries, 0 to 249999\n",
      "Data columns (total 9 columns):\n",
      " #   Column                       Non-Null Count   Dtype  \n",
      "---  ------                       --------------   -----  \n",
      " 0   id                           250000 non-null  int64  \n",
      " 1   Episode_Length_minutes       250000 non-null  float64\n",
      " 2   Genre                        250000 non-null  object \n",
      " 3   Host_Popularity_percentage   250000 non-null  float64\n",
      " 4   Publication_Day              250000 non-null  object \n",
      " 5   Publication_Time             250000 non-null  object \n",
      " 6   Guest_Popularity_percentage  250000 non-null  float64\n",
      " 7   Number_of_Ads                250000 non-null  float64\n",
      " 8   Episode_Sentiment            250000 non-null  object \n",
      "dtypes: float64(4), int64(1), object(4)\n",
      "memory usage: 17.2+ MB\n"
     ]
    }
   ],
   "source": [
    "# Check data types\n",
    "print(f\"TRAINING SET\")\n",
    "train.info()\n",
    "print(\"________________________________________________________________ \\n\")\n",
    "print(f\"TESTING SET\")\n",
    "test.info()"
   ]
  },
  {
   "cell_type": "markdown",
   "id": "5eaaca73",
   "metadata": {},
   "source": [
    "# H2O AutoML"
   ]
  },
  {
   "cell_type": "code",
   "execution_count": null,
   "id": "36a2f9ef",
   "metadata": {},
   "outputs": [
    {
     "name": "stdout",
     "output_type": "stream",
     "text": [
      "Checking whether there is an H2O instance running at http://localhost:54321..... not found.\n",
      "Attempting to start a local H2O server...\n",
      "; OpenJDK 64-Bit Server VM (Temurin)(build 25.432-b06, mixed mode)\n",
      "  Starting server from C:\\Users\\jdh10\\anaconda3\\Lib\\site-packages\\h2o\\backend\\bin\\h2o.jar\n",
      "  Ice root: C:\\Users\\jdh10\\AppData\\Local\\Temp\\tmpa14ix_yp\n",
      "  JVM stdout: C:\\Users\\jdh10\\AppData\\Local\\Temp\\tmpa14ix_yp\\h2o_jdh10_started_from_python.out\n",
      "  JVM stderr: C:\\Users\\jdh10\\AppData\\Local\\Temp\\tmpa14ix_yp\\h2o_jdh10_started_from_python.err\n"
     ]
    }
   ],
   "source": [
    "import multiprocessing\n",
    "\n",
    "# Set proportion of the CPU H2O is allowed to use\n",
    "num_cores = multiprocessing.cpu_count()\n",
    "cpu_percentage = 0.5\n",
    "allowed_threads = int(num_cores * cpu_percentage)\n",
    "\n",
    "# Initialize H2O with custom computation resource allocations\n",
    "allowed_memory = \"23G\" # My computer has 24GB of RAM\n",
    "h2o.init(nthreads=allowed_threads, max_mem_size=allowed_memory)"
   ]
  },
  {
   "cell_type": "code",
   "execution_count": null,
   "id": "1ac42d71",
   "metadata": {},
   "outputs": [],
   "source": [
    "# Convert datasets to H2O objects\n",
    "train = h2o.H2OFrame(train)\n",
    "test = h2o.H2OFrame(test)"
   ]
  },
  {
   "cell_type": "code",
   "execution_count": null,
   "id": "df07c511",
   "metadata": {},
   "outputs": [],
   "source": [
    "# Identify label and features\n",
    "y = \"Listening_Time_minutes\"\n",
    "x = train.columns\n",
    "x.remove(y) # Get only features\n",
    "x.remove(\"id\")"
   ]
  },
  {
   "cell_type": "code",
   "execution_count": null,
   "id": "5baf05e8",
   "metadata": {},
   "outputs": [],
   "source": [
    "\"\"\" # Install libraries for multithreaded conversion of H2O dataframes to Pandas dataframes\n",
    "!pip install polars\n",
    "!pip install pyarrow\n",
    "\"\"\";"
   ]
  },
  {
   "cell_type": "code",
   "execution_count": null,
   "id": "723bba49",
   "metadata": {},
   "outputs": [],
   "source": [
    "from h2o.automl import H2OAutoML\n",
    "import pandas as pd\n",
    "\n",
    "# Train AutoML\n",
    "aml = H2OAutoML(max_runtime_secs=3600, seed=1)  # Adjust runtime as needed\n",
    "aml.train(x=x, y=y, training_frame=train)\n",
    "\n",
    "# Show total training time\n",
    "training_info = aml.training_info\n",
    "aml_elapsed_time = training_info['duration_secs']\n",
    "print(f\"AutoML elapsed time from training info: {aml_elapsed_time} seconds \\n\")\n",
    "\n",
    "# View leaderboard\n",
    "lb = aml.leaderboard\n",
    "print(lb)\n",
    "\n",
    "# Get best model\n",
    "best_model = aml.leader\n",
    "\n",
    "# Make predictions on test data\n",
    "predictions = best_model.predict(test)\n",
    "\n",
    "# Format predictions for submission\n",
    "predicted_values = predictions[\"predict\"].as_data_frame(use_multi_thread=True)\n",
    "ids = test[\"id\"].as_data_frame(use_multi_thread=True)\n",
    "submission = pd.concat([ids, predicted_values], axis=1)\n",
    "submission.columns = [\"id\", \"Listening_Time_minutes\"]\n",
    "\n",
    "# Save the submission DataFrame to a CSV file\n",
    "submission.to_csv(\"submission.csv\", index=False)"
   ]
  },
  {
   "cell_type": "code",
   "execution_count": null,
   "id": "c726f00e",
   "metadata": {},
   "outputs": [],
   "source": [
    "# Check submitted file\n",
    "submission.sample(5, random_state=42)"
   ]
  },
  {
   "cell_type": "code",
   "execution_count": null,
   "id": "82ba6307",
   "metadata": {},
   "outputs": [],
   "source": [
    "# Shut down H2O\n",
    "h2o.cluster().shutdown()"
   ]
  }
 ],
 "metadata": {
  "kernelspec": {
   "display_name": "Python 3 (ipykernel)",
   "language": "python",
   "name": "python3"
  },
  "language_info": {
   "codemirror_mode": {
    "name": "ipython",
    "version": 3
   },
   "file_extension": ".py",
   "mimetype": "text/x-python",
   "name": "python",
   "nbconvert_exporter": "python",
   "pygments_lexer": "ipython3",
   "version": "3.11.5"
  }
 },
 "nbformat": 4,
 "nbformat_minor": 5
}
