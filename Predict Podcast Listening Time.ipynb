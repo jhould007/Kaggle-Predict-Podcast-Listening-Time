{
 "cells": [
  {
   "cell_type": "markdown",
   "id": "cd4edeed",
   "metadata": {},
   "source": [
    "# Predict Podcast Listening Time\n",
    "By Josh Houlding\n",
    "\n",
    "<b>Competition Page:</b> [https://www.kaggle.com/competitions/playground-series-s5e4/overview](https://www.kaggle.com/competitions/playground-series-s5e4/overview)\n",
    "\n",
    "The following is an AutoML solution to the April 2025 Kaggle competition based around predicting a podcast episode's listening time based on various factors, implemented using the H2O library."
   ]
  },
  {
   "cell_type": "code",
   "execution_count": 9,
   "id": "bd22797a",
   "metadata": {},
   "outputs": [],
   "source": [
    "# Install H2O AutoML library\n",
    "#pip install h2o"
   ]
  },
  {
   "cell_type": "code",
   "execution_count": 10,
   "id": "1ac42d71",
   "metadata": {},
   "outputs": [
    {
     "name": "stdout",
     "output_type": "stream",
     "text": [
      "Checking whether there is an H2O instance running at http://localhost:54321..... not found.\n",
      "Attempting to start a local H2O server...\n",
      "; OpenJDK 64-Bit Server VM (Temurin)(build 25.432-b06, mixed mode)\n",
      "  Starting server from C:\\Users\\jdh10\\anaconda3\\Lib\\site-packages\\h2o\\backend\\bin\\h2o.jar\n",
      "  Ice root: C:\\Users\\jdh10\\AppData\\Local\\Temp\\tmpfdjx9qm9\n",
      "  JVM stdout: C:\\Users\\jdh10\\AppData\\Local\\Temp\\tmpfdjx9qm9\\h2o_jdh10_started_from_python.out\n",
      "  JVM stderr: C:\\Users\\jdh10\\AppData\\Local\\Temp\\tmpfdjx9qm9\\h2o_jdh10_started_from_python.err\n",
      "  Server is running at http://127.0.0.1:54321\n",
      "Connecting to H2O server at http://127.0.0.1:54321 ... successful.\n"
     ]
    },
    {
     "data": {
      "text/html": [
       "\n",
       "<style>\n",
       "\n",
       "#h2o-table-2.h2o-container {\n",
       "  overflow-x: auto;\n",
       "}\n",
       "#h2o-table-2 .h2o-table {\n",
       "  /* width: 100%; */\n",
       "  margin-top: 1em;\n",
       "  margin-bottom: 1em;\n",
       "}\n",
       "#h2o-table-2 .h2o-table caption {\n",
       "  white-space: nowrap;\n",
       "  caption-side: top;\n",
       "  text-align: left;\n",
       "  /* margin-left: 1em; */\n",
       "  margin: 0;\n",
       "  font-size: larger;\n",
       "}\n",
       "#h2o-table-2 .h2o-table thead {\n",
       "  white-space: nowrap; \n",
       "  position: sticky;\n",
       "  top: 0;\n",
       "  box-shadow: 0 -1px inset;\n",
       "}\n",
       "#h2o-table-2 .h2o-table tbody {\n",
       "  overflow: auto;\n",
       "}\n",
       "#h2o-table-2 .h2o-table th,\n",
       "#h2o-table-2 .h2o-table td {\n",
       "  text-align: right;\n",
       "  /* border: 1px solid; */\n",
       "}\n",
       "#h2o-table-2 .h2o-table tr:nth-child(even) {\n",
       "  /* background: #F5F5F5 */\n",
       "}\n",
       "\n",
       "</style>      \n",
       "<div id=\"h2o-table-2\" class=\"h2o-container\">\n",
       "  <table class=\"h2o-table\">\n",
       "    <caption></caption>\n",
       "    <thead></thead>\n",
       "    <tbody><tr><td>H2O_cluster_uptime:</td>\n",
       "<td>05 secs</td></tr>\n",
       "<tr><td>H2O_cluster_timezone:</td>\n",
       "<td>America/Los_Angeles</td></tr>\n",
       "<tr><td>H2O_data_parsing_timezone:</td>\n",
       "<td>UTC</td></tr>\n",
       "<tr><td>H2O_cluster_version:</td>\n",
       "<td>3.46.0.7</td></tr>\n",
       "<tr><td>H2O_cluster_version_age:</td>\n",
       "<td>6 days</td></tr>\n",
       "<tr><td>H2O_cluster_name:</td>\n",
       "<td>H2O_from_python_jdh10_epu0pu</td></tr>\n",
       "<tr><td>H2O_cluster_total_nodes:</td>\n",
       "<td>1</td></tr>\n",
       "<tr><td>H2O_cluster_free_memory:</td>\n",
       "<td>5.304 Gb</td></tr>\n",
       "<tr><td>H2O_cluster_total_cores:</td>\n",
       "<td>16</td></tr>\n",
       "<tr><td>H2O_cluster_allowed_cores:</td>\n",
       "<td>8</td></tr>\n",
       "<tr><td>H2O_cluster_status:</td>\n",
       "<td>locked, healthy</td></tr>\n",
       "<tr><td>H2O_connection_url:</td>\n",
       "<td>http://127.0.0.1:54321</td></tr>\n",
       "<tr><td>H2O_connection_proxy:</td>\n",
       "<td>{\"http\": null, \"https\": null}</td></tr>\n",
       "<tr><td>H2O_internal_security:</td>\n",
       "<td>False</td></tr>\n",
       "<tr><td>Python_version:</td>\n",
       "<td>3.11.5 final</td></tr></tbody>\n",
       "  </table>\n",
       "</div>\n"
      ],
      "text/plain": [
       "--------------------------  -----------------------------\n",
       "H2O_cluster_uptime:         05 secs\n",
       "H2O_cluster_timezone:       America/Los_Angeles\n",
       "H2O_data_parsing_timezone:  UTC\n",
       "H2O_cluster_version:        3.46.0.7\n",
       "H2O_cluster_version_age:    6 days\n",
       "H2O_cluster_name:           H2O_from_python_jdh10_epu0pu\n",
       "H2O_cluster_total_nodes:    1\n",
       "H2O_cluster_free_memory:    5.304 Gb\n",
       "H2O_cluster_total_cores:    16\n",
       "H2O_cluster_allowed_cores:  8\n",
       "H2O_cluster_status:         locked, healthy\n",
       "H2O_connection_url:         http://127.0.0.1:54321\n",
       "H2O_connection_proxy:       {\"http\": null, \"https\": null}\n",
       "H2O_internal_security:      False\n",
       "Python_version:             3.11.5 final\n",
       "--------------------------  -----------------------------"
      ]
     },
     "metadata": {},
     "output_type": "display_data"
    },
    {
     "name": "stdout",
     "output_type": "stream",
     "text": [
      "Parse progress: |████████████████████████████████████████████████████████████████| (done) 100%\n",
      "Parse progress: |████████████████████████████████████████████████████████████████| (done) 100%\n"
     ]
    }
   ],
   "source": [
    "import h2o\n",
    "import multiprocessing\n",
    "\n",
    "# Get the number of CPU cores\n",
    "num_cores = multiprocessing.cpu_count()\n",
    "\n",
    "# Set the desired CPU percentage (e.g., 50%)\n",
    "cpu_percentage = 0.5\n",
    "\n",
    "# Calculate the number of threads to use\n",
    "desired_threads = int(num_cores * cpu_percentage)\n",
    "\n",
    "# Initialize H2O with the specified number of threads\n",
    "h2o.init(nthreads=desired_threads)\n",
    "\n",
    "# Load data\n",
    "train = h2o.import_file(\"train.csv\")\n",
    "#train_sample = train[0:10000] # Take sample of training set for better performance\n",
    "test = h2o.import_file(\"test.csv\")"
   ]
  },
  {
   "cell_type": "code",
   "execution_count": 11,
   "id": "df07c511",
   "metadata": {},
   "outputs": [],
   "source": [
    "# Identify label and features\n",
    "y = \"Listening_Time_minutes\"\n",
    "x = train.columns\n",
    "x.remove(y) # Get only features\n",
    "x.remove(\"id\") # ID is not useful for prediction"
   ]
  },
  {
   "cell_type": "code",
   "execution_count": 12,
   "id": "0438e93a",
   "metadata": {},
   "outputs": [],
   "source": [
    "\"\"\" # Install libraries for multithreaded conversion of H2O dataframes to Pandas dataframes\n",
    "!pip install polars\n",
    "!pip install pyarrow\n",
    "\"\"\";"
   ]
  },
  {
   "cell_type": "code",
   "execution_count": 13,
   "id": "723bba49",
   "metadata": {},
   "outputs": [
    {
     "name": "stdout",
     "output_type": "stream",
     "text": [
      "AutoML progress: |\n",
      "21:08:17.475: AutoML: XGBoost is not available; skipping it.\n",
      "\n",
      "███████████████████████████████████████████████████████████████| (done) 100%\n",
      "model_id                                                    rmse      mse       mae       rmsle    mean_residual_deviance\n",
      "StackedEnsemble_BestOfFamily_1_AutoML_1_20250402_210816  13.0844  171.201   9.56584  nan                          171.201\n",
      "GLM_1_AutoML_1_20250402_210816                           13.3549  178.355   9.80337  nan                          178.355\n",
      "GBM_1_AutoML_1_20250402_210816                           14.6739  215.323  11.3383     0.578994                   215.323\n",
      "DRF_1_AutoML_1_20250402_210816                           17.4512  304.543  12.3502     0.535024                   304.543\n",
      "[4 rows x 6 columns]\n",
      "\n",
      "stackedensemble prediction progress: |███████████████████████████████████████████| (done) 100%\n",
      "Export File progress: |██████████████████████████████████████████████████████████| (done) 100%\n",
      "Export File progress: |██████████████████████████████████████████████████████████| (done) 100%\n"
     ]
    }
   ],
   "source": [
    "from h2o.automl import H2OAutoML\n",
    "import pandas as pd\n",
    "\n",
    "# Train AutoML\n",
    "aml = H2OAutoML(max_runtime_secs=10, seed=1)  # Adjust runtime as needed\n",
    "aml.train(x=x, y=y, training_frame=train)\n",
    "\n",
    "# View leaderboard\n",
    "lb = aml.leaderboard\n",
    "print(lb)\n",
    "\n",
    "# Get best model\n",
    "best_model = aml.leader\n",
    "\n",
    "# Make predictions on test data\n",
    "predictions = best_model.predict(test)\n",
    "\n",
    "# Format predictions for submission\n",
    "predicted_values = predictions[\"predict\"].as_data_frame(use_multi_thread=True)\n",
    "ids = test[\"id\"].as_data_frame(use_multi_thread=True)\n",
    "submission = pd.concat([ids, predicted_values], axis=1)\n",
    "submission.columns = [\"id\", \"Listening_Time_minutes\"]\n",
    "\n",
    "# Save the submission DataFrame to a CSV file\n",
    "submission.to_csv(\"submission.csv\", index=False)"
   ]
  },
  {
   "cell_type": "code",
   "execution_count": 14,
   "id": "c726f00e",
   "metadata": {},
   "outputs": [
    {
     "data": {
      "text/html": [
       "<div>\n",
       "<style scoped>\n",
       "    .dataframe tbody tr th:only-of-type {\n",
       "        vertical-align: middle;\n",
       "    }\n",
       "\n",
       "    .dataframe tbody tr th {\n",
       "        vertical-align: top;\n",
       "    }\n",
       "\n",
       "    .dataframe thead th {\n",
       "        text-align: right;\n",
       "    }\n",
       "</style>\n",
       "<table border=\"1\" class=\"dataframe\">\n",
       "  <thead>\n",
       "    <tr style=\"text-align: right;\">\n",
       "      <th></th>\n",
       "      <th>id</th>\n",
       "      <th>Listening_Time_minutes</th>\n",
       "    </tr>\n",
       "  </thead>\n",
       "  <tbody>\n",
       "    <tr>\n",
       "      <th>38683</th>\n",
       "      <td>788683</td>\n",
       "      <td>54.693700</td>\n",
       "    </tr>\n",
       "    <tr>\n",
       "      <th>64939</th>\n",
       "      <td>814939</td>\n",
       "      <td>49.467250</td>\n",
       "    </tr>\n",
       "    <tr>\n",
       "      <th>3954</th>\n",
       "      <td>753954</td>\n",
       "      <td>79.867230</td>\n",
       "    </tr>\n",
       "    <tr>\n",
       "      <th>120374</th>\n",
       "      <td>870374</td>\n",
       "      <td>64.671026</td>\n",
       "    </tr>\n",
       "    <tr>\n",
       "      <th>172861</th>\n",
       "      <td>922861</td>\n",
       "      <td>68.857285</td>\n",
       "    </tr>\n",
       "  </tbody>\n",
       "</table>\n",
       "</div>"
      ],
      "text/plain": [
       "            id  Listening_Time_minutes\n",
       "38683   788683               54.693700\n",
       "64939   814939               49.467250\n",
       "3954    753954               79.867230\n",
       "120374  870374               64.671026\n",
       "172861  922861               68.857285"
      ]
     },
     "execution_count": 14,
     "metadata": {},
     "output_type": "execute_result"
    }
   ],
   "source": [
    "# Check submitted file\n",
    "submission.sample(5, random_state=42)"
   ]
  },
  {
   "cell_type": "code",
   "execution_count": 15,
   "id": "82ba6307",
   "metadata": {},
   "outputs": [
    {
     "name": "stdout",
     "output_type": "stream",
     "text": [
      "H2O session _sid_9c61 closed.\n"
     ]
    }
   ],
   "source": [
    "# Shut down H2O\n",
    "h2o.cluster().shutdown()"
   ]
  }
 ],
 "metadata": {
  "kernelspec": {
   "display_name": "Python 3 (ipykernel)",
   "language": "python",
   "name": "python3"
  },
  "language_info": {
   "codemirror_mode": {
    "name": "ipython",
    "version": 3
   },
   "file_extension": ".py",
   "mimetype": "text/x-python",
   "name": "python",
   "nbconvert_exporter": "python",
   "pygments_lexer": "ipython3",
   "version": "3.11.5"
  }
 },
 "nbformat": 4,
 "nbformat_minor": 5
}
